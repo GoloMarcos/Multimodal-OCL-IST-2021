{
  "nbformat": 4,
  "nbformat_minor": 0,
  "metadata": {
    "colab": {
      "name": "BERTs.ipynb",
      "provenance": [],
      "collapsed_sections": []
    },
    "kernelspec": {
      "name": "python3",
      "display_name": "Python 3"
    },
    "language_info": {
      "name": "python"
    },
    "accelerator": "GPU"
  },
  "cells": [
    {
      "cell_type": "code",
      "metadata": {
        "id": "a1kVE9TYvc1m"
      },
      "source": [
        "!pip install -U sentence-transformers"
      ],
      "execution_count": null,
      "outputs": []
    },
    {
      "cell_type": "code",
      "metadata": {
        "id": "0i5YMyrIvlaI"
      },
      "source": [
        "from sentence_transformers import SentenceTransformer\n",
        "import numpy as np"
      ],
      "execution_count": null,
      "outputs": []
    },
    {
      "cell_type": "code",
      "metadata": {
        "id": "pB1yZkYVvmoY"
      },
      "source": [
        "def WordEmbeddings(txts, model):\n",
        "\n",
        "  model = SentenceTransformer(model)\n",
        "  \n",
        "  sentences=txts.replace(['\\\\t','\\\\n','\\\\r'], [' ',' ',' '], regex=True)\n",
        "\n",
        "  sentence_embeddings = model.encode(sentences)\n",
        "\n",
        "  return sentence_embeddings "
      ],
      "execution_count": null,
      "outputs": []
    },
    {
      "cell_type": "code",
      "metadata": {
        "id": "G-aMZthgvoSU"
      },
      "source": [
        "models = {\n",
        "    'DBERTML' : 'distiluse-base-multilingual-cased',\n",
        "}"
      ],
      "execution_count": null,
      "outputs": []
    },
    {
      "cell_type": "code",
      "metadata": {
        "id": "NNFKjP19vsPi"
      },
      "source": [
        "df2 = pd.DataFrame()\n",
        "df2['category'] = df['category']\n",
        "df2['text'] = df['text']\n",
        "\n",
        "for model in models.keys():\n",
        "  print('no modelo: ' + model)\n",
        "  embeddings = WordEmbeddings(df.text, models[model])\n",
        "  df2[model] = list(np.array(embeddings))"
      ],
      "execution_count": null,
      "outputs": []
    },
    {
      "cell_type": "code",
      "metadata": {
        "id": "0AkGXJawxt1v"
      },
      "source": [
        "df2.to_pickle('BASENAME.plk')"
      ],
      "execution_count": null,
      "outputs": []
    }
  ]
}