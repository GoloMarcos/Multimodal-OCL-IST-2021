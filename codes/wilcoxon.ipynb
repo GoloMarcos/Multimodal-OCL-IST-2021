{
  "nbformat": 4,
  "nbformat_minor": 0,
  "metadata": {
    "colab": {
      "name": "wilcoxon.ipynb",
      "provenance": [],
      "collapsed_sections": []
    },
    "kernelspec": {
      "name": "python3",
      "display_name": "Python 3"
    },
    "language_info": {
      "name": "python"
    }
  },
  "cells": [
    {
      "cell_type": "code",
      "metadata": {
        "id": "EwBXRaSvMRdY"
      },
      "source": [
        "from pathlib import Path\n",
        "import numpy as np\n",
        "import pandas as pd\n",
        "\n",
        "metric = 'f1-score-mean'\n",
        "basepath = Path('results/')\n",
        "files_in_basepath = basepath.iterdir()\n",
        "\n",
        "dic = {}\n",
        "\n",
        "for item in files_in_basepath:\n",
        "  if item.is_file():\n",
        "    \n",
        "    names = item.name.split('_')\n",
        "    \n",
        "    lenght = len(names)\n",
        "    \n",
        "    dataset = names[0]\n",
        "    \n",
        "    percent = names[lenght-2].replace('.csv','')\n",
        "    \n",
        "    if names[1] == 'BoW':\n",
        "      prepro = names[1] + '_' + names[2]\n",
        "    else:\n",
        "      prepro = names[1]\n",
        "    \n",
        "    df = pd.read_csv('results/' + item.name, sep=';')\n",
        "\n",
        "    best_f1_mean = max(df[metric])\n",
        "\n",
        "    if prepro not in dic:\n",
        "      dic[prepro] = {}\n",
        "      dic[prepro][dataset] = {}\n",
        "    elif dataset not in dic[prepro]:\n",
        "      dic[prepro][dataset] = {}\n",
        "\n",
        "    dic[prepro][dataset][percent] = best_f1_mean"
      ],
      "execution_count": null,
      "outputs": []
    },
    {
      "cell_type": "code",
      "metadata": {
        "id": "DDlEWFsZM2-J"
      },
      "source": [
        "dicti = {}\n",
        "for rep in dic.keys():\n",
        "  lista = []\n",
        "  for dataset in dic['AE'].keys():\n",
        "    for percent in ['0.25','0.5','0.75','1']:\n",
        "      lista.append(dic[rep][dataset][percent])\n",
        "  dicti[rep] = lista"
      ],
      "execution_count": null,
      "outputs": []
    },
    {
      "cell_type": "code",
      "metadata": {
        "id": "s1QxwSdjEfeH"
      },
      "source": [
        "from scipy.stats import wilcoxon"
      ],
      "execution_count": null,
      "outputs": []
    },
    {
      "cell_type": "code",
      "metadata": {
        "id": "6XzI5TblE3d9"
      },
      "source": [
        "alpha=0.05\n",
        "dic_re = {}\n",
        "for rep1 in dicti.keys():\n",
        "  dic_re[rep1] = {}\n",
        "  for rep2 in dicti.keys():\n",
        "    if rep1 != rep2:\n",
        "      stat, p = wilcoxon(dicti[rep1],dicti[rep2])\n",
        "      if p > alpha: \n",
        "        dic_re[rep1][rep2] = 0\n",
        "      else: \n",
        "        dic_re[rep1][rep2] = 1"
      ],
      "execution_count": null,
      "outputs": []
    },
    {
      "cell_type": "code",
      "metadata": {
        "id": "w4twv4DYE9yt"
      },
      "source": [
        "dic_re['Representation Name'] # 1 == statical diference, 0 == no statical diference"
      ],
      "execution_count": null,
      "outputs": []
    }
  ]
}