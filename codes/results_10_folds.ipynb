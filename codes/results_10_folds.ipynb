{
  "nbformat": 4,
  "nbformat_minor": 0,
  "metadata": {
    "colab": {
      "name": "results-10-folds.ipynb",
      "provenance": [],
      "collapsed_sections": []
    },
    "kernelspec": {
      "name": "python3",
      "display_name": "Python 3"
    },
    "language_info": {
      "name": "python"
    }
  },
  "cells": [
    {
      "cell_type": "code",
      "metadata": {
        "id": "ZVn6f4iZl09z"
      },
      "source": [
        "path = ''"
      ],
      "execution_count": null,
      "outputs": []
    },
    {
      "cell_type": "code",
      "metadata": {
        "id": "4sonOlhRm8e3"
      },
      "source": [
        "from pathlib import Path\n",
        "import numpy as np\n",
        "import pandas as pd\n",
        "\n",
        "basepath = Path(path)\n",
        "files_in_basepath = basepath.iterdir()\n",
        "\n",
        "dic = {}\n",
        "\n",
        "for item in files_in_basepath:\n",
        "  if item.is_file():\n",
        "    \n",
        "    name = item.name.split('_')\n",
        "    \n",
        "    tam = len(name)\n",
        "    \n",
        "    dataset = name[0]\n",
        "    \n",
        "    percent = name[tam-2]\n",
        "    \n",
        "    if name[1] == 'BoW':\n",
        "      if name[2] == 'term-frequency-IDF':\n",
        "        preprocessing = 'Bow-TFIDF'\n",
        "      elif name[2] == 'term-frequency':\n",
        "        preprocessing = 'Bow-TF'\n",
        "      elif name[2] == 'binary':\n",
        "        preprocessing = 'Bow-Binary'\n",
        "    elif name[1] == 'DensityInformation':\n",
        "      preprocessing = 'Density'\n",
        "    else:\n",
        "      preprocessing = name[1]\n",
        "    \n",
        "\n",
        "    df = pd.read_csv(path + item.name, sep=';')\n",
        "\n",
        "    best_f1_mean = max(df['f1-score-mean'])\n",
        "\n",
        "    best_f1_std = float(df[df['f1-score-mean'] == best_f1_mean]['f1-score-std'].iloc[0])\n",
        "\n",
        "    best_pre_mean = float(df[df['f1-score-mean'] == best_f1_mean]['precision-mean'].iloc[0])\n",
        "\n",
        "    best_pre_std = float(df[df['f1-score-mean'] == best_f1_mean]['precision-std'].iloc[0])\n",
        "\n",
        "    brest_rev_mean = float(df[df['f1-score-mean'] == best_f1_mean]['recall-mean'].iloc[0])\n",
        "\n",
        "    brest_rev_std = float(df[df['f1-score-mean'] == best_f1_mean]['recall-std'].iloc[0])\n",
        "\n",
        "    best_aucroc_mean = max(df['auc_roc-mean'])\n",
        "\n",
        "    best_aucroc_std = float(df[df['auc_roc-mean'] == best_aucroc_mean]['auc_roc-std'].iloc[0])\n",
        "\n",
        "    best_acuracia_mean = max(df['accuracy-mean'])\n",
        "\n",
        "    best_acuracia_std = float(df[df['accuracy-mean'] == best_acuracia_mean]['accuracy-std'].iloc[0])\n",
        "\n",
        "\n",
        "    if dataset not in dic:\n",
        "      dic[dataset] = {}\n",
        "      dic[dataset][preprocessing] = pd.DataFrame(columns=['percent', 'precision-mean', 'precision-std',\t'recall-mean', 'recall-std','f1-score-mean','f1-score-std',\t'auc_roc-mean', 'auc_roc-std', 'accuracy-mean', 'accuracy-std'])\n",
        "    elif preprocessing not in dic[dataset]:\n",
        "      dic[dataset][preprocessing] = pd.DataFrame(columns=['percent', 'precision-mean', 'precision-std',\t'recall-mean', 'recall-std','f1-score-mean','f1-score-std',\t'auc_roc-mean', 'auc_roc-std', 'accuracy-mean', 'accuracy-std'])\n",
        "\n",
        "    df_bests = dic[dataset][preprocessing]\n",
        "    df_bests = df_bests.append({'percent' : percent.replace('.csv','_%'),\n",
        "                                'precision-mean' : best_pre_mean, \n",
        "                                'precision-std' : best_pre_std, \n",
        "                                'recall-mean' : brest_rev_mean, \n",
        "                                'recall-std' : brest_rev_std, \n",
        "                                'f1-score-mean' : best_f1_mean, \n",
        "                                'f1-score-std' : best_f1_std, \n",
        "                                'auc_roc-mean' : best_aucroc_mean, \n",
        "                                'auc_roc-std' : best_aucroc_std, \n",
        "                                'accuracy-mean' : best_acuracia_mean,\n",
        "                                'accuracy-std' : best_acuracia_std} , \n",
        "                               ignore_index=True)\n",
        "    dic[dataset][preprocessing] = df_bests\n",
        "    "
      ],
      "execution_count": null,
      "outputs": []
    },
    {
      "cell_type": "code",
      "metadata": {
        "colab": {
          "base_uri": "https://localhost:8080/",
          "height": 173
        },
        "id": "gvCxNZO_oRBx",
        "outputId": "e835c0bb-4ceb-4d14-e130-0600a5c242f7"
      },
      "source": [
        "dic['TIT']['MAE']"
      ],
      "execution_count": null,
      "outputs": [
        {
          "output_type": "execute_result",
          "data": {
            "text/html": [
              "<div>\n",
              "<style scoped>\n",
              "    .dataframe tbody tr th:only-of-type {\n",
              "        vertical-align: middle;\n",
              "    }\n",
              "\n",
              "    .dataframe tbody tr th {\n",
              "        vertical-align: top;\n",
              "    }\n",
              "\n",
              "    .dataframe thead th {\n",
              "        text-align: right;\n",
              "    }\n",
              "</style>\n",
              "<table border=\"1\" class=\"dataframe\">\n",
              "  <thead>\n",
              "    <tr style=\"text-align: right;\">\n",
              "      <th></th>\n",
              "      <th>percent</th>\n",
              "      <th>precision-mean</th>\n",
              "      <th>precision-std</th>\n",
              "      <th>recall-mean</th>\n",
              "      <th>recall-std</th>\n",
              "      <th>f1-score-mean</th>\n",
              "      <th>f1-score-std</th>\n",
              "      <th>auc_roc-mean</th>\n",
              "      <th>auc_roc-std</th>\n",
              "      <th>accuracy-mean</th>\n",
              "      <th>accuracy-std</th>\n",
              "    </tr>\n",
              "  </thead>\n",
              "  <tbody>\n",
              "    <tr>\n",
              "      <th>0</th>\n",
              "      <td>0.5</td>\n",
              "      <td>0.538551</td>\n",
              "      <td>0.016757</td>\n",
              "      <td>0.894787</td>\n",
              "      <td>0.039795</td>\n",
              "      <td>0.672029</td>\n",
              "      <td>0.019619</td>\n",
              "      <td>0.781578</td>\n",
              "      <td>0.033026</td>\n",
              "      <td>0.698062</td>\n",
              "      <td>0.031261</td>\n",
              "    </tr>\n",
              "    <tr>\n",
              "      <th>1</th>\n",
              "      <td>0.25</td>\n",
              "      <td>0.518612</td>\n",
              "      <td>0.014125</td>\n",
              "      <td>0.888134</td>\n",
              "      <td>0.036837</td>\n",
              "      <td>0.654248</td>\n",
              "      <td>0.009724</td>\n",
              "      <td>0.757022</td>\n",
              "      <td>0.027410</td>\n",
              "      <td>0.686359</td>\n",
              "      <td>0.028209</td>\n",
              "    </tr>\n",
              "    <tr>\n",
              "      <th>2</th>\n",
              "      <td>1</td>\n",
              "      <td>0.558289</td>\n",
              "      <td>0.018578</td>\n",
              "      <td>0.876994</td>\n",
              "      <td>0.021623</td>\n",
              "      <td>0.681989</td>\n",
              "      <td>0.015514</td>\n",
              "      <td>0.798101</td>\n",
              "      <td>0.021938</td>\n",
              "      <td>0.715333</td>\n",
              "      <td>0.016215</td>\n",
              "    </tr>\n",
              "    <tr>\n",
              "      <th>3</th>\n",
              "      <td>0.75</td>\n",
              "      <td>0.548510</td>\n",
              "      <td>0.019185</td>\n",
              "      <td>0.903121</td>\n",
              "      <td>0.019864</td>\n",
              "      <td>0.682293</td>\n",
              "      <td>0.017034</td>\n",
              "      <td>0.789187</td>\n",
              "      <td>0.025438</td>\n",
              "      <td>0.706666</td>\n",
              "      <td>0.020758</td>\n",
              "    </tr>\n",
              "  </tbody>\n",
              "</table>\n",
              "</div>"
            ],
            "text/plain": [
              "  percent  precision-mean  ...  accuracy-mean  accuracy-std\n",
              "0     0.5        0.538551  ...       0.698062      0.031261\n",
              "1    0.25        0.518612  ...       0.686359      0.028209\n",
              "2       1        0.558289  ...       0.715333      0.016215\n",
              "3    0.75        0.548510  ...       0.706666      0.020758\n",
              "\n",
              "[4 rows x 11 columns]"
            ]
          },
          "metadata": {
            "tags": []
          },
          "execution_count": 97
        }
      ]
    },
    {
      "cell_type": "code",
      "metadata": {
        "id": "qDELUZnknlIA"
      },
      "source": [
        "def return_df(dataset, metric):\n",
        "  df = pd.DataFrame(columns=['percent'] + list(dic[dataset].keys()))\n",
        "  percents = ['0.25','0.5','0.75','1']\n",
        "  df['percent'] = percents\n",
        "\n",
        "  for prepro in dic[dataset].keys():\n",
        "    df_aux = dic[dataset][prepro]\n",
        "    values_list = []\n",
        "    for percent in percents:\n",
        "      values_list.append(df_aux[df_aux.percent == percent][metric].iloc[0])\n",
        "    \n",
        "    df[prepro] = values_list\n",
        "\n",
        "  return df"
      ],
      "execution_count": null,
      "outputs": []
    },
    {
      "cell_type": "code",
      "metadata": {
        "id": "C4PaZk2Nnv5t"
      },
      "source": [
        "metric = 'accuracy-mean'\n",
        "\n",
        "df_are = return_df('ARE', metric)\n",
        "df_ten = return_df('TEN', metric)\n",
        "df_tit = return_df('TIT', metric)"
      ],
      "execution_count": null,
      "outputs": []
    },
    {
      "cell_type": "code",
      "metadata": {
        "id": "3ZZ0J6BFxisM"
      },
      "source": [
        "df_are.to_csv('ARE-Acurracy.csv',sep=';',index=False)"
      ],
      "execution_count": null,
      "outputs": []
    },
    {
      "cell_type": "code",
      "metadata": {
        "id": "4Ty_4TYEyc4-"
      },
      "source": [
        "df_tit.to_csv('TIT-Acurracy.csv',sep=';',index=False)"
      ],
      "execution_count": null,
      "outputs": []
    },
    {
      "cell_type": "code",
      "metadata": {
        "id": "nVMq8zjBydB5"
      },
      "source": [
        "df_ten.to_csv('TEN-Acurracy.csv',sep=';',index=False)"
      ],
      "execution_count": null,
      "outputs": []
    }
  ]
}